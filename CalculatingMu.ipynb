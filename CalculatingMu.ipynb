{
 "cells": [
  {
   "cell_type": "markdown",
   "metadata": {},
   "source": [
    "<h2>Calculating Mu & Edge Detection<H2>"
   ]
  },
  {
   "cell_type": "markdown",
   "metadata": {},
   "source": [
    "Description: The following script automates the process of generating the mu values for the edges detected off each tif image taken from the experiments held in Emory."
   ]
  },
  {
   "cell_type": "markdown",
   "metadata": {},
   "source": [
    "<p>Imports required for runnining script. Utilize yml file for setting up virtual environment<p>"
   ]
  },
  {
   "cell_type": "code",
   "execution_count": 29,
   "metadata": {},
   "outputs": [],
   "source": [
    "from decimal import ROUND_UP\n",
    "import math\n",
    "import cv2\n",
    "import numpy as np\n",
    "from scipy.optimize import curve_fit\n",
    "from scipy.stats import zscore\n",
    "import pandas as pd\n",
    "from PIL import Image, ImageSequence\n",
    "import matplotlib.pyplot as plt\n",
    "from scipy.special import lambertw\n",
    "import os\n",
    "import csv\n",
    "from csv import writer"
   ]
  },
  {
   "cell_type": "markdown",
   "metadata": {},
   "source": [
    "<p>Following methods performs Canny edge detection on the images<p>"
   ]
  },
  {
   "cell_type": "code",
   "execution_count": 30,
   "metadata": {},
   "outputs": [],
   "source": [
    "def edge_detection(img):\n",
    "    #Performs Canny Edgetection on the Image\n",
    "    med_val = np.median(img)\n",
    "    lower = int(max(0,1.9*med_val))\n",
    "    upper = int(min(255,1.9*med_val))\n",
    "    edges = cv2.Canny(image = img, threshold1 = lower, threshold2 = upper + 100)\n",
    "    #Crop images to remove noise from beyond the container \n",
    "    output = edges[119:330]\n",
    "    return output"
   ]
  },
  {
   "cell_type": "markdown",
   "metadata": {},
   "source": [
    "<p>Perform Hough Transform on Canny Edge Detection to further remove noise and extract clearer edges<p>"
   ]
  },
  {
   "cell_type": "code",
   "execution_count": 31,
   "metadata": {},
   "outputs": [],
   "source": [
    "def houghTransform(output):\n",
    "    #Create a plain back image to place lines detecting from images passed in as parameter\n",
    "    cdstP = np.zeros((300,1500,3))\n",
    "    \n",
    "    #HoughTransform\n",
    "    linesP = cv2.HoughLinesP(output,rho = 1,theta = 1*np.pi/180,threshold = 15,minLineLength = 10,maxLineGap = 20)\n",
    "    if linesP is not None:\n",
    "        for i in range(0, len(linesP)):\n",
    "            l = linesP[i][0]\n",
    "            cv2.line(cdstP, (l[0], l[1]), (l[2], l[3]), (0,0,255), 1, cv2.LINE_AA)\n",
    "\n",
    "    return cdstP"
   ]
  },
  {
   "cell_type": "markdown",
   "metadata": {},
   "source": [
    "<p>Some tif images have vertical lines due to the edge pushing against the ice cubes...this method removes this vertical line to only extract the edges required<p>"
   ]
  },
  {
   "cell_type": "code",
   "execution_count": 32,
   "metadata": {},
   "outputs": [],
   "source": [
    "def remove_line(output):\n",
    "    #Creating Kernel for detecting vertical lines\n",
    "    vertical_kernel = cv2.getStructuringElement(cv2.MORPH_RECT, (1,5))\n",
    "    x=cv2.morphologyEx(output, cv2.MORPH_OPEN, vertical_kernel ,iterations=1)\n",
    "    #Remove the detected vertical lines from original image\n",
    "    output-=x\n",
    "    return output"
   ]
  },
  {
   "cell_type": "markdown",
   "metadata": {},
   "source": [
    "<p>The following is the equation utilized to curve fit (as pulled from powerpoint)...the method is utilized in the fitting function to curve fit the data points collected from the edge detection to this equation<p>"
   ]
  },
  {
   "cell_type": "code",
   "execution_count": 33,
   "metadata": {},
   "outputs": [],
   "source": [
    "def equation2(x,a):\n",
    "    new_x = []\n",
    "    #Math.exp cannot take in list, so we have to iterate through the x_coordinates apply the function to each\n",
    "    #and then spit out a corresponding y coordinate\n",
    "    cmtopixel=16\n",
    "    x = (x[-1] - x)/cmtopixel #flip direction of x (to match eqn) and convert to cm\n",
    "    L = np.max(x)\n",
    "    W = 27\n",
    "    H_L = 1\n",
    "    \n",
    "    for item in x: #Equation pulled from powerpoint\n",
    "        output =  math.exp(-(a*(L - item)/W)-0.5)\n",
    "        output2 = -0.5*output\n",
    "        output3 = H_L/(2*np.real(lambertw(output2)))\n",
    "        new_x.append(output3*cmtopixel)\n",
    "    \n",
    "    y_out = new_x\n",
    "    return y_out"
   ]
  },
  {
   "cell_type": "markdown",
   "metadata": {},
   "source": [
    "<p> The following function pulls (x,y) coordinates from edge detection, performs outlier removals, put the values into pandas frameworks,and then utilizes the scipy library function to curve fit the data point to the equation in equation2 method above. <p>"
   ]
  },
  {
   "cell_type": "code",
   "execution_count": 34,
   "metadata": {},
   "outputs": [],
   "source": [
    "def fitting(output):\n",
    "    #Gather the x,y coordinates of the edges detected in images\n",
    "    indices = np.where(output != [0])\n",
    "    coordinates = list(zip(indices[1], indices[0]))\n",
    "\n",
    "    #Place xoordinates into a pandas dataframe\n",
    "    df = pd.DataFrame(coordinates, columns = [\"X\", \"Y\"])\n",
    "    \n",
    "    #Remove outliers from x and y coordinates\n",
    "    z_scores = zscore(df)\n",
    "    abs = np.abs(z_scores)\n",
    "    filter = (abs < 2).all(axis=1)\n",
    "    new_df = df[filter]\n",
    "    \n",
    "\n",
    "    #Move x coordinates from pandas framework to numpy format\n",
    "    x_coordinates = new_df['X']\n",
    "    x_coordinates1 = []\n",
    "    for item in x_coordinates:\n",
    "        x_coordinates1.append(item)\n",
    "    x_coordinates2 = np.array(x_coordinates1)\n",
    "    \n",
    "    #Move y coordinates from pandas framework to numpy format\n",
    "    y_coordinates = new_df['Y']\n",
    "    y_coordinates1 = []\n",
    "    for item in y_coordinates:\n",
    "        y_coordinates1.append(item)\n",
    "    y_coordinates2 = np.array(y_coordinates1)\n",
    "    \n",
    "    #Utilizng the x and y coordiantes apply curve fitting with equation inputed\n",
    "    popt, cov = curve_fit(equation2, x_coordinates2, -y_coordinates2)\n",
    "    a = popt\n",
    "    y_new_value = equation2(sorted(x_coordinates2), a)\n",
    "    #COMMENT OUT TO SEE RESULTS FROM CURVE FITTING\n",
    "    #plt.scatter(x_coordinates2, -y_coordinates2, s = 0.1)\n",
    "    #plt.plot(sorted(x_coordinates2), y_new_value, color = \"red\")\n",
    "    #plt.show()\n",
    "    return a"
   ]
  },
  {
   "cell_type": "markdown",
   "metadata": {},
   "source": [
    "<p>The code here serves as the \"main\" method calling on the other methods above. It is automated to iterate through a file of tif files and create csv files for each tiff file storing the image number and associated mu value.<p>"
   ]
  },
  {
   "cell_type": "code",
   "execution_count": 35,
   "metadata": {},
   "outputs": [
    {
     "name": "stdout",
     "output_type": "stream",
     "text": [
      "NA\n"
     ]
    },
    {
     "data": {
      "image/png": "[encoded data removed]",
      "text/plain": [
       "<Figure size 640x480 with 1 Axes>"
      ]
     },
     "metadata": {},
     "output_type": "display_data"
    },
    {
     "data": {
      "image/png": "[encoded data removed]",
      "text/plain": [
       "<Figure size 640x480 with 1 Axes>"
      ]
     },
     "metadata": {},
     "output_type": "display_data"
    }
   ],
   "source": [
    "#Automatically pulling in images from file\n",
    "fileNum = 1 \n",
    "#change path accordingly to folder with tif files\n",
    "path = \"/Users/ayushirajpoot/Desktop/ResearchNotebook/CalculatingMu/ResearchImages\"\n",
    "for filename in os.scandir(path):\n",
    "    fileString = \"File\" + str(fileNum) #Name files File(#Number)\n",
    "    fileNum = fileNum + 1\n",
    "    with open(fileString,'w') as file: #Create csv file\n",
    "        writer_object = writer(file) \n",
    "        writer_object.writerow([\"Image Number\", \"Mu Value\"])\n",
    "        if filename.is_file():\n",
    "            im = Image.open(filename.path)\n",
    "        im = Image.open(filename.path)\n",
    "        counter = 0\n",
    "        for i, page in enumerate(ImageSequence.Iterator(im)): #Iterate through tiff images in the tiff files\n",
    "            if counter%100 == 0: #Set for every 100 image a mu value is calculated change accordingly -> change 100 to your preference\n",
    "                img = np.array(page)\n",
    "                #COMMENT OUT THE FOLLOWING RESULTS TO PRINT RESULTS FOR EDGE DETECTION\n",
    "                output = edge_detection(img)\n",
    "                #cv2.imshow(\"edgeDetection\", output)\n",
    "                #cv2.waitKey(0)\n",
    "                #cv2.destroyAllWindows()\n",
    "                output2 = houghTransform(output)\n",
    "                #cv2.imshow(\"houghTransform\", output2)\n",
    "                #cv2.waitKey(0)\n",
    "                #cv2.destroyAllWindows()\n",
    "                output3 = remove_line(output2)\n",
    "                #cv2.imshow(\"remove line\", output3)\n",
    "                #cv2.waitKey(0)\n",
    "                #cv2.destroyAllWindows()\n",
    "                try:\n",
    "                    value = fitting(output3) #curve fit after edge detection\n",
    "                    writer_object.writerow([i, value[0]])\n",
    "                except:\n",
    "                    print(\"NA\")\n",
    "                counter = counter + 1\n",
    "            else:\n",
    "                counter = counter + 1\n",
    "   \n",
    "#Following code opens each csv file one at a time and constructs a visual matplotlib graph             \n",
    "x_coordinate = []\n",
    "y_coordinate = []\n",
    "coordinates = []\n",
    "i = 0\n",
    "for p in range(fileNum):\n",
    "    if (p != 0) :\n",
    "        fileString = \"File\" + str(p)\n",
    "        i = 0\n",
    "        with open(fileString, mode='r') as csv_file:\n",
    "            for line in csv_file:\n",
    "                tokens = line.split( \",\" )\n",
    "                if i != 0 :\n",
    "                    x_coordinate.append(int(tokens[0]))\n",
    "                    y_coordinate.append(float(tokens[1]))\n",
    "                    coordinates.append(line)\n",
    "                i = 1\n",
    "        x_coordinate2 = np.array(x_coordinate)\n",
    "        y_coordinate2 = np.array(y_coordinate)\n",
    "        #print(x_coordinate2)\n",
    "        #print(y_coordinate2)\n",
    "        plt.scatter(x_coordinate2, y_coordinate2)\n",
    "        plt.show()"
   ]
  }
 ],
 "metadata": {
  "kernelspec": {
   "display_name": "Python 3.9.12 ('venv': venv)",
   "language": "python",
   "name": "python3"
  },
  "language_info": {
   "codemirror_mode": {
    "name": "ipython",
    "version": 3
   },
   "file_extension": ".py",
   "mimetype": "text/x-python",
   "name": "python",
   "nbconvert_exporter": "python",
   "pygments_lexer": "ipython3",
   "version": "3.9.12"
  },
  "orig_nbformat": 4,
  "vscode": {
   "interpreter": {
    "hash": "5062d0f218d82dcbe8df30d3a0cccdad339c72cbff8df1778450e4ca161d98fe"
   }
  }
 },
 "nbformat": 4,
 "nbformat_minor": 2
}
